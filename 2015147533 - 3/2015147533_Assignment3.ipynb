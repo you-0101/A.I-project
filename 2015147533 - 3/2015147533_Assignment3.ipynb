{
  "nbformat": 4,
  "nbformat_minor": 0,
  "metadata": {
    "kernelspec": {
      "language": "python",
      "display_name": "Python 3",
      "name": "python3"
    },
    "language_info": {
      "pygments_lexer": "ipython3",
      "nbconvert_exporter": "python",
      "version": "3.6.4",
      "file_extension": ".py",
      "codemirror_mode": {
        "name": "ipython",
        "version": 3
      },
      "name": "python",
      "mimetype": "text/x-python"
    },
    "colab": {
      "name": "final(a.i)_assignment3.ipynb",
      "provenance": []
    }
  },
  "cells": [
    {
      "cell_type": "code",
      "metadata": {
        "id": "yu-OBDOAvFsF",
        "colab_type": "code",
        "colab": {
          "base_uri": "https://localhost:8080/",
          "height": 36
        },
        "outputId": "3ee740e8-4527-45b1-f734-e99f56421f6e"
      },
      "source": [
        "from google.colab import drive\n",
        "\n",
        "drive.mount('/content/gdrive')"
      ],
      "execution_count": 77,
      "outputs": [
        {
          "output_type": "stream",
          "text": [
            "Drive already mounted at /content/gdrive; to attempt to forcibly remount, call drive.mount(\"/content/gdrive\", force_remount=True).\n"
          ],
          "name": "stdout"
        }
      ]
    },
    {
      "cell_type": "code",
      "metadata": {
        "id": "VcQsNoDZvKCj",
        "colab_type": "code",
        "colab": {
          "base_uri": "https://localhost:8080/",
          "height": 36
        },
        "outputId": "e5c4f145-40a8-453b-a98c-fd59acd6a082"
      },
      "source": [
        "cd /content/gdrive/My Drive/Colab Notebooks/data"
      ],
      "execution_count": 78,
      "outputs": [
        {
          "output_type": "stream",
          "text": [
            "/content/gdrive/My Drive/Colab Notebooks/data\n"
          ],
          "name": "stdout"
        }
      ]
    },
    {
      "cell_type": "code",
      "metadata": {
        "_uuid": "4e5ecba5-9107-4711-a043-767249e0583f",
        "_cell_guid": "e8f5de10-d033-4753-b927-f8072a713253",
        "trusted": true,
        "id": "0s8Nc-VKu8zJ",
        "colab_type": "code",
        "colab": {}
      },
      "source": [
        "# This Python 3 environment comes with many helpful analytics libraries installed\n",
        "# It is defined by the kaggle/python Docker image: https://github.com/kaggle/docker-python\n",
        "# For example, here's several helpful packages to load\n",
        "\n",
        "import numpy as np # linear algebra\n",
        "import pandas as pd # data processing, CSV file I/O (e.g. pd.read_csv)\n",
        "\n",
        "# Input data files are available in the read-only \"../input/\" directory\n",
        "# For example, running this (by clicking run or pressing Shift+Enter) will list all files under the input directory\n",
        "\n",
        "import os\n",
        "for dirname, _, filenames in os.walk('/kaggle/input'):\n",
        "    for filename in filenames:\n",
        "        print(os.path.join(dirname, filename))\n",
        "\n",
        "# You can write up to 5GB to the current directory (/kaggle/working/) that gets preserved as output when you create a version using \"Save & Run All\" \n",
        "# You can also write temporary files to /kaggle/temp/, but they won't be saved outside of the current session"
      ],
      "execution_count": 79,
      "outputs": []
    },
    {
      "cell_type": "markdown",
      "metadata": {
        "id": "k94OzPUMvE5W",
        "colab_type": "text"
      },
      "source": [
        ""
      ]
    },
    {
      "cell_type": "code",
      "metadata": {
        "_uuid": "7ad9fc4f-5f93-413f-b1a9-efb45d9af093",
        "_cell_guid": "5ed12299-e13c-4df4-9c54-0e37d89a93db",
        "trusted": true,
        "id": "t88pwzjwu8zS",
        "colab_type": "code",
        "colab": {}
      },
      "source": [
        "import pandas as pd\n",
        "import numpy as np\n",
        "import torch\n",
        "from tqdm import tqdm\n",
        "from torch.utils.data import Dataset, DataLoader\n",
        "\n",
        "\n",
        "# Read the train/test file from kaggle\n",
        "train = pd.read_csv('/content/gdrive/My Drive/Colab Notebooks/data/train_covid.csv')\n",
        "test = pd.read_csv('/content/gdrive/My Drive/Colab Notebooks/data/test_covid.csv')"
      ],
      "execution_count": 80,
      "outputs": []
    },
    {
      "cell_type": "code",
      "metadata": {
        "_uuid": "c6a01f71-15bf-4f98-bad8-e31860fdf676",
        "_cell_guid": "59563205-4583-48f3-9c43-7b8c5b62d97a",
        "trusted": true,
        "id": "Vv-JKd-_u8zY",
        "colab_type": "code",
        "colab": {}
      },
      "source": [
        "# Fill missing value by average\n",
        "train[\"new_cases\"]=train[\"new_cases\"].fillna(train[\"new_cases\"].mean())\n",
        "train[\"new_deaths\"]=train[\"new_deaths\"].fillna(train[\"new_deaths\"].mean())\n",
        "train[\"stringency_index\"]=train[\"stringency_index\"].fillna(train[\"stringency_index\"].mean())\n",
        "train[\"population\"]=train[\"population\"].fillna(train[\"population\"].mean())\n",
        "train[\"population_density\"]=train[\"population_density\"].fillna(train[\"population_density\"].mean())\n",
        "train[\"median_age\"]=train[\"median_age\"].fillna(train[\"median_age\"].mean())\n",
        "train[\"aged_65_older\"]=train[\"aged_65_older\"].fillna(train[\"aged_65_older\"].mean())\n",
        "train[\"aged_70_older\"]=train[\"aged_70_older\"].fillna(train[\"aged_70_older\"].mean())\n",
        "train[\"female_smokers\"]=train[\"female_smokers\"].fillna(train[\"female_smokers\"].mean())\n",
        "train[\"male_smokers\"]=train[\"male_smokers\"].fillna(train[\"male_smokers\"].mean())\n",
        "train[\"gdp_per_capita\"]=train[\"gdp_per_capita\"].fillna(train[\"gdp_per_capita\"].mean())\n",
        "train[\"handwashing_facilities\"]=train[\"handwashing_facilities\"].fillna(train[\"handwashing_facilities\"].mean())\n",
        "train[\"hospital_beds_per_thousand\"]=train[\"hospital_beds_per_thousand\"].fillna(train[\"hospital_beds_per_thousand\"].mean())\n",
        "train = train.fillna(train.mean())\n",
        "test = test.fillna(train.mean())"
      ],
      "execution_count": 81,
      "outputs": []
    },
    {
      "cell_type": "code",
      "metadata": {
        "_uuid": "2ae205be-9a49-442f-ab30-b7de22167e41",
        "_cell_guid": "f1abb729-d216-46a8-8c41-ca45e3ab69d9",
        "trusted": true,
        "id": "CX_SaM_Ou8zc",
        "colab_type": "code",
        "colab": {}
      },
      "source": [
        "## 2layer FC layer NN\n",
        "class myModel(torch.nn.Module):\n",
        "    def __init__(self):\n",
        "        super(myModel, self).__init__()\n",
        "        self.model = torch.nn.Sequential(\n",
        "                        torch.nn.Linear(30, 10),\n",
        "                        torch.nn.GELU(),\n",
        "                        torch.nn.Linear(10, 2),\n",
        "                        torch.nn.ReLU()\n",
        "        )\n",
        "        # [c*7, d*7] --> [c, d]\n",
        "        \n",
        "    def forward(self, x):\n",
        "        c_and_d = self.model(x)\n",
        "        c = c_and_d[:, 0] # new_case\n",
        "        d = c_and_d[:, 1] # new_death\n",
        "        \n",
        "        #print(\"c, d: \", c, d)\n",
        "        return c, d\n",
        "\n",
        "class myDataset(Dataset):\n",
        "    def __init__(self, inputs, outputs):\n",
        "        self.inputs = inputs\n",
        "        self.outputs = outputs\n",
        "        \n",
        "    def __len__(self):\n",
        "        return len(self.inputs)\n",
        "\n",
        "    def __getitem__(self, idx):\n",
        "        return {\"inputs\": self.inputs[idx], \"outputs\": self.outputs[idx]}\n",
        "    \n",
        "def my_collate(samples):\n",
        "    inputs = []\n",
        "    outputs = []\n",
        "    for sample in samples:\n",
        "        inputs.append(sample[\"inputs\"])\n",
        "        outputs.append(sample[\"outputs\"])\n",
        "        \n",
        "    return {\"inputs\": torch.tensor(inputs), \"outputs\": torch.tensor(outputs)}"
      ],
      "execution_count": 82,
      "outputs": []
    },
    {
      "cell_type": "code",
      "metadata": {
        "_uuid": "31e2c42b-67dc-4583-8bf9-c3b51e12ad57",
        "_cell_guid": "4a7d942c-69c8-4796-8193-b529a7b6fd8a",
        "trusted": true,
        "id": "3k0QX2Wtu8zh",
        "colab_type": "code",
        "colab": {}
      },
      "source": [
        "# initialize the dataset \n",
        "train_case = [0.] * 10\n",
        "train_death = [0.] * 10\n",
        "train_age = [0.] * 10\n",
        "train_input = train_case + train_death + train_age\n",
        "train_inputs = []\n",
        "train_outputs = []\n",
        "locations = []\n",
        "\n",
        "\n",
        "test_case = [0.] * 10\n",
        "test_death = [0.] * 10\n",
        "test_age = [0.] * 10\n",
        "test_input = test_case + test_death + test_age\n",
        "test_inputs = []"
      ],
      "execution_count": 83,
      "outputs": []
    },
    {
      "cell_type": "code",
      "metadata": {
        "_uuid": "d03803e1-a56a-4de6-9da9-4d7251df3284",
        "_cell_guid": "e9aace3f-43fd-4b7c-b7b4-c4d85e4c2bb3",
        "trusted": true,
        "id": "-niKW355u8zo",
        "colab_type": "code",
        "colab": {
          "base_uri": "https://localhost:8080/",
          "height": 36
        },
        "outputId": "8a87e541-1d87-4cfa-b3bd-6359623a666f"
      },
      "source": [
        "# Make dataset for training \n",
        "# [c*7, d*7] --> [c, d]\n",
        "# (ex: given: 4/1~4/7 case & death, predict: 4/8 case & death)\n",
        "for key in tqdm(sorted(set(train[\"location\"]))):\n",
        "    locations.append(key)\n",
        "    temp_df = train[train[\"location\"] == key]\n",
        "    train_case = [0.] * 10\n",
        "    train_death = [0.] * 10 \n",
        "    train_age = [0.] * 10\n",
        "\n",
        "    train_input = train_case + train_death + train_age\n",
        "    train_inputs.append(train_input)\n",
        "    \n",
        "    append_flag = 1\n",
        "    for index, row in temp_df.iterrows():\n",
        "        if(append_flag):\n",
        "            train_outputs.append([float(row[\"new_cases\"]), float(row[\"new_deaths\"])])\n",
        "            append_flag = 0\n",
        "            \n",
        "        train_case = train_case[1:] + [float(row[\"new_cases\"])]\n",
        "        train_death = train_death[1:] + [float(row[\"new_deaths\"])]\n",
        "        train_age = train_age[1:] + [float(row[\"median_age\"])]\n",
        "        train_input = train_case + train_death + train_age\n",
        "        #train_inputs.append(train_input)\n",
        "        \n",
        "        # To handle too many multiple values & the last value\n",
        "        # (ex: [0, 0, .... , 0, 0] --> [0, 0])\n",
        "        if train_input in train_inputs or index == temp_df[\"id\"].values[-1]: continue\n",
        "        else: train_inputs.append(train_input); append_flag = 1"
      ],
      "execution_count": 84,
      "outputs": [
        {
          "output_type": "stream",
          "text": [
            "100%|██████████| 208/208 [00:06<00:00, 30.29it/s]\n"
          ],
          "name": "stderr"
        }
      ]
    },
    {
      "cell_type": "code",
      "metadata": {
        "_uuid": "e481dec8-4d7e-4bb2-9207-a8386803aa33",
        "_cell_guid": "a9dbd8a1-1c36-44cf-ad0b-dc109537ea9e",
        "trusted": true,
        "id": "LpB9Wkqfu8zt",
        "colab_type": "code",
        "colab": {
          "base_uri": "https://localhost:8080/",
          "height": 36
        },
        "outputId": "f4697f3c-cc55-4bbd-eb3d-8c35ec4e5919"
      },
      "source": [
        "# Evaluation dataset\n",
        "test_input_dict = {}\n",
        "for key in tqdm(sorted(set(train[\"location\"]))):\n",
        "    \n",
        "    # To predict 5/1 \n",
        "    temp_df = train[train[\"location\"] == key]\n",
        "    temp_df = temp_df[(temp_df['date'] >= '2020-04-21') & (temp_df['date'] <= '2020-04-30')]\n",
        "    \n",
        "    \n",
        "    test_case = list(map(lambda x: float(x), temp_df[\"new_cases\"].values))\n",
        "    test_death = list(map(lambda x: float(x), temp_df[\"new_deaths\"].values))\n",
        "    test_age = list(map(lambda x: float(x), temp_df[\"median_age\"].values))\n",
        "    \n",
        "    if(len(test_case) < 10): test_case = [0.] * (10 - len(test_case)) + test_case\n",
        "    if(len(test_death) < 10): test_death = [0.] * (10 - len(test_death)) + test_death\n",
        "    if(len(test_age) < 10): test_age = [0.] * (10 - len(test_age)) + test_age    \n",
        "   \n",
        "    test_input = test_case + test_death + test_age\n",
        "    \n",
        "    test_input_dict[key] = test_input"
      ],
      "execution_count": 85,
      "outputs": [
        {
          "output_type": "stream",
          "text": [
            "100%|██████████| 208/208 [00:00<00:00, 396.34it/s]\n"
          ],
          "name": "stderr"
        }
      ]
    },
    {
      "cell_type": "code",
      "metadata": {
        "_uuid": "b6d73b1a-e3b2-4315-a025-1fc385be06aa",
        "_cell_guid": "cc2ae8b3-063a-45e1-a1b8-4aef4f7aba99",
        "trusted": true,
        "id": "L97WixPtu8z0",
        "colab_type": "code",
        "colab": {}
      },
      "source": [
        "batch_size = 100\n",
        "\n",
        "## Dataset Load\n",
        "dataset = myDataset(train_inputs, train_outputs)\n",
        "params = {'batch_size': batch_size,\n",
        "          'shuffle': True,\n",
        "          'num_workers':0,\n",
        "          'drop_last': True,\n",
        "          'collate_fn': my_collate\n",
        "         }\n",
        "train_generator = DataLoader(dataset, **params)\n",
        "\n",
        "## Model load\n",
        "model = myModel()\n",
        "\n",
        "# Loss/Optimizer define\n",
        "optimizer = torch.optim.AdamW(model.parameters(), amsgrad = True)\n",
        "\n",
        "class RMSLELoss(torch.nn.Module):\n",
        "    def __init__(self):\n",
        "        super().__init__()\n",
        "        self.mse = torch.nn.MSELoss()\n",
        "        \n",
        "    def forward(self, pred, actual):\n",
        "        return torch.sqrt(self.mse(torch.log(pred + 1), torch.log(actual + 1)))\n",
        "    \n",
        "# Loss\n",
        "criterion = RMSLELoss()"
      ],
      "execution_count": 86,
      "outputs": []
    },
    {
      "cell_type": "code",
      "metadata": {
        "_uuid": "d43006c3-e1b5-427a-99f6-6c4d9bb07213",
        "_cell_guid": "86070a9b-2993-4972-9326-d3fe7a7cee1e",
        "trusted": true,
        "id": "fGZyZQrVu8z5",
        "colab_type": "code",
        "colab": {
          "base_uri": "https://localhost:8080/",
          "height": 1000
        },
        "outputId": "621c2350-ad24-4dc3-cd26-1a4c314a162a"
      },
      "source": [
        "# Training\n",
        "model.train()\n",
        "for epoch in tqdm(range(100)):\n",
        "    for k in train_generator:\n",
        "        pred_c, pred_d = model(k[\"inputs\"])\n",
        "        \n",
        "        loss_c = criterion(pred_c, k[\"outputs\"][:, 0])\n",
        "        loss_d = criterion(pred_d, k[\"outputs\"][:, 1])\n",
        "        total_loss = (loss_c)*0.9  + (loss_d) * 0.1\n",
        "        \n",
        "        \n",
        "        total_loss.backward()\n",
        "        torch.nn.utils.clip_grad_value_(model.parameters(), 1)\n",
        "        optimizer.step()\n",
        "        \n",
        "    print(\"epoch: \", total_loss)"
      ],
      "execution_count": 87,
      "outputs": [
        {
          "output_type": "stream",
          "text": [
            "  1%|          | 1/100 [00:00<00:20,  4.85it/s]"
          ],
          "name": "stderr"
        },
        {
          "output_type": "stream",
          "text": [
            "epoch:  tensor(1.1868, grad_fn=<AddBackward0>)\n"
          ],
          "name": "stdout"
        },
        {
          "output_type": "stream",
          "text": [
            "\r  2%|▏         | 2/100 [00:00<00:20,  4.77it/s]"
          ],
          "name": "stderr"
        },
        {
          "output_type": "stream",
          "text": [
            "epoch:  tensor(0.8536, grad_fn=<AddBackward0>)\n"
          ],
          "name": "stdout"
        },
        {
          "output_type": "stream",
          "text": [
            "\r  3%|▎         | 3/100 [00:00<00:20,  4.71it/s]"
          ],
          "name": "stderr"
        },
        {
          "output_type": "stream",
          "text": [
            "epoch:  tensor(1.0809, grad_fn=<AddBackward0>)\n"
          ],
          "name": "stdout"
        },
        {
          "output_type": "stream",
          "text": [
            "\r  4%|▍         | 4/100 [00:00<00:21,  4.51it/s]"
          ],
          "name": "stderr"
        },
        {
          "output_type": "stream",
          "text": [
            "epoch:  tensor(0.8265, grad_fn=<AddBackward0>)\n"
          ],
          "name": "stdout"
        },
        {
          "output_type": "stream",
          "text": [
            "\r  5%|▌         | 5/100 [00:01<00:21,  4.48it/s]"
          ],
          "name": "stderr"
        },
        {
          "output_type": "stream",
          "text": [
            "epoch:  tensor(1.0126, grad_fn=<AddBackward0>)\n"
          ],
          "name": "stdout"
        },
        {
          "output_type": "stream",
          "text": [
            "\r  6%|▌         | 6/100 [00:01<00:21,  4.44it/s]"
          ],
          "name": "stderr"
        },
        {
          "output_type": "stream",
          "text": [
            "epoch:  tensor(0.8420, grad_fn=<AddBackward0>)\n"
          ],
          "name": "stdout"
        },
        {
          "output_type": "stream",
          "text": [
            "\r  7%|▋         | 7/100 [00:01<00:20,  4.43it/s]"
          ],
          "name": "stderr"
        },
        {
          "output_type": "stream",
          "text": [
            "epoch:  tensor(1.0558, grad_fn=<AddBackward0>)\n"
          ],
          "name": "stdout"
        },
        {
          "output_type": "stream",
          "text": [
            "\r  8%|▊         | 8/100 [00:01<00:20,  4.42it/s]"
          ],
          "name": "stderr"
        },
        {
          "output_type": "stream",
          "text": [
            "epoch:  tensor(0.9397, grad_fn=<AddBackward0>)\n"
          ],
          "name": "stdout"
        },
        {
          "output_type": "stream",
          "text": [
            "\r  9%|▉         | 9/100 [00:02<00:20,  4.42it/s]"
          ],
          "name": "stderr"
        },
        {
          "output_type": "stream",
          "text": [
            "epoch:  tensor(0.7400, grad_fn=<AddBackward0>)\n"
          ],
          "name": "stdout"
        },
        {
          "output_type": "stream",
          "text": [
            "\r 10%|█         | 10/100 [00:02<00:20,  4.42it/s]"
          ],
          "name": "stderr"
        },
        {
          "output_type": "stream",
          "text": [
            "epoch:  tensor(0.7696, grad_fn=<AddBackward0>)\n"
          ],
          "name": "stdout"
        },
        {
          "output_type": "stream",
          "text": [
            "\r 11%|█         | 11/100 [00:02<00:20,  4.36it/s]"
          ],
          "name": "stderr"
        },
        {
          "output_type": "stream",
          "text": [
            "epoch:  tensor(0.9140, grad_fn=<AddBackward0>)\n"
          ],
          "name": "stdout"
        },
        {
          "output_type": "stream",
          "text": [
            "\r 12%|█▏        | 12/100 [00:02<00:20,  4.37it/s]"
          ],
          "name": "stderr"
        },
        {
          "output_type": "stream",
          "text": [
            "epoch:  tensor(0.6833, grad_fn=<AddBackward0>)\n"
          ],
          "name": "stdout"
        },
        {
          "output_type": "stream",
          "text": [
            "\r 13%|█▎        | 13/100 [00:02<00:19,  4.37it/s]"
          ],
          "name": "stderr"
        },
        {
          "output_type": "stream",
          "text": [
            "epoch:  tensor(0.7965, grad_fn=<AddBackward0>)\n"
          ],
          "name": "stdout"
        },
        {
          "output_type": "stream",
          "text": [
            "\r 14%|█▍        | 14/100 [00:03<00:19,  4.39it/s]"
          ],
          "name": "stderr"
        },
        {
          "output_type": "stream",
          "text": [
            "epoch:  tensor(0.9066, grad_fn=<AddBackward0>)\n"
          ],
          "name": "stdout"
        },
        {
          "output_type": "stream",
          "text": [
            "\r 15%|█▌        | 15/100 [00:03<00:19,  4.38it/s]"
          ],
          "name": "stderr"
        },
        {
          "output_type": "stream",
          "text": [
            "epoch:  tensor(0.8777, grad_fn=<AddBackward0>)\n"
          ],
          "name": "stdout"
        },
        {
          "output_type": "stream",
          "text": [
            "\r 16%|█▌        | 16/100 [00:03<00:19,  4.30it/s]"
          ],
          "name": "stderr"
        },
        {
          "output_type": "stream",
          "text": [
            "epoch:  tensor(0.7627, grad_fn=<AddBackward0>)\n"
          ],
          "name": "stdout"
        },
        {
          "output_type": "stream",
          "text": [
            "\r 17%|█▋        | 17/100 [00:03<00:19,  4.33it/s]"
          ],
          "name": "stderr"
        },
        {
          "output_type": "stream",
          "text": [
            "epoch:  tensor(1.2917, grad_fn=<AddBackward0>)\n"
          ],
          "name": "stdout"
        },
        {
          "output_type": "stream",
          "text": [
            "\r 18%|█▊        | 18/100 [00:04<00:18,  4.33it/s]"
          ],
          "name": "stderr"
        },
        {
          "output_type": "stream",
          "text": [
            "epoch:  tensor(0.7069, grad_fn=<AddBackward0>)\n"
          ],
          "name": "stdout"
        },
        {
          "output_type": "stream",
          "text": [
            "\r 19%|█▉        | 19/100 [00:04<00:18,  4.33it/s]"
          ],
          "name": "stderr"
        },
        {
          "output_type": "stream",
          "text": [
            "epoch:  tensor(0.6671, grad_fn=<AddBackward0>)\n"
          ],
          "name": "stdout"
        },
        {
          "output_type": "stream",
          "text": [
            "\r 20%|██        | 20/100 [00:04<00:18,  4.34it/s]"
          ],
          "name": "stderr"
        },
        {
          "output_type": "stream",
          "text": [
            "epoch:  tensor(0.8671, grad_fn=<AddBackward0>)\n"
          ],
          "name": "stdout"
        },
        {
          "output_type": "stream",
          "text": [
            "\r 21%|██        | 21/100 [00:04<00:18,  4.36it/s]"
          ],
          "name": "stderr"
        },
        {
          "output_type": "stream",
          "text": [
            "epoch:  tensor(1.0810, grad_fn=<AddBackward0>)\n"
          ],
          "name": "stdout"
        },
        {
          "output_type": "stream",
          "text": [
            "\r 22%|██▏       | 22/100 [00:05<00:17,  4.35it/s]"
          ],
          "name": "stderr"
        },
        {
          "output_type": "stream",
          "text": [
            "epoch:  tensor(0.9234, grad_fn=<AddBackward0>)\n"
          ],
          "name": "stdout"
        },
        {
          "output_type": "stream",
          "text": [
            "\r 23%|██▎       | 23/100 [00:05<00:17,  4.37it/s]"
          ],
          "name": "stderr"
        },
        {
          "output_type": "stream",
          "text": [
            "epoch:  tensor(0.7950, grad_fn=<AddBackward0>)\n"
          ],
          "name": "stdout"
        },
        {
          "output_type": "stream",
          "text": [
            "\r 24%|██▍       | 24/100 [00:05<00:17,  4.41it/s]"
          ],
          "name": "stderr"
        },
        {
          "output_type": "stream",
          "text": [
            "epoch:  tensor(0.9268, grad_fn=<AddBackward0>)\n"
          ],
          "name": "stdout"
        },
        {
          "output_type": "stream",
          "text": [
            "\r 25%|██▌       | 25/100 [00:05<00:17,  4.30it/s]"
          ],
          "name": "stderr"
        },
        {
          "output_type": "stream",
          "text": [
            "epoch:  tensor(0.8118, grad_fn=<AddBackward0>)\n"
          ],
          "name": "stdout"
        },
        {
          "output_type": "stream",
          "text": [
            "\r 26%|██▌       | 26/100 [00:05<00:17,  4.32it/s]"
          ],
          "name": "stderr"
        },
        {
          "output_type": "stream",
          "text": [
            "epoch:  tensor(1.0262, grad_fn=<AddBackward0>)\n"
          ],
          "name": "stdout"
        },
        {
          "output_type": "stream",
          "text": [
            "\r 27%|██▋       | 27/100 [00:06<00:16,  4.35it/s]"
          ],
          "name": "stderr"
        },
        {
          "output_type": "stream",
          "text": [
            "epoch:  tensor(0.8368, grad_fn=<AddBackward0>)\n"
          ],
          "name": "stdout"
        },
        {
          "output_type": "stream",
          "text": [
            "\r 28%|██▊       | 28/100 [00:06<00:16,  4.35it/s]"
          ],
          "name": "stderr"
        },
        {
          "output_type": "stream",
          "text": [
            "epoch:  tensor(0.8810, grad_fn=<AddBackward0>)\n"
          ],
          "name": "stdout"
        },
        {
          "output_type": "stream",
          "text": [
            "\r 29%|██▉       | 29/100 [00:06<00:16,  4.37it/s]"
          ],
          "name": "stderr"
        },
        {
          "output_type": "stream",
          "text": [
            "epoch:  tensor(0.7619, grad_fn=<AddBackward0>)\n"
          ],
          "name": "stdout"
        },
        {
          "output_type": "stream",
          "text": [
            "\r 30%|███       | 30/100 [00:06<00:15,  4.40it/s]"
          ],
          "name": "stderr"
        },
        {
          "output_type": "stream",
          "text": [
            "epoch:  tensor(0.8325, grad_fn=<AddBackward0>)\n"
          ],
          "name": "stdout"
        },
        {
          "output_type": "stream",
          "text": [
            "\r 31%|███       | 31/100 [00:07<00:15,  4.38it/s]"
          ],
          "name": "stderr"
        },
        {
          "output_type": "stream",
          "text": [
            "epoch:  tensor(0.8655, grad_fn=<AddBackward0>)\n"
          ],
          "name": "stdout"
        },
        {
          "output_type": "stream",
          "text": [
            "\r 32%|███▏      | 32/100 [00:07<00:15,  4.38it/s]"
          ],
          "name": "stderr"
        },
        {
          "output_type": "stream",
          "text": [
            "epoch:  tensor(0.8305, grad_fn=<AddBackward0>)\n"
          ],
          "name": "stdout"
        },
        {
          "output_type": "stream",
          "text": [
            "\r 33%|███▎      | 33/100 [00:07<00:15,  4.30it/s]"
          ],
          "name": "stderr"
        },
        {
          "output_type": "stream",
          "text": [
            "epoch:  tensor(0.7764, grad_fn=<AddBackward0>)\n"
          ],
          "name": "stdout"
        },
        {
          "output_type": "stream",
          "text": [
            "\r 34%|███▍      | 34/100 [00:07<00:15,  4.34it/s]"
          ],
          "name": "stderr"
        },
        {
          "output_type": "stream",
          "text": [
            "epoch:  tensor(0.8372, grad_fn=<AddBackward0>)\n"
          ],
          "name": "stdout"
        },
        {
          "output_type": "stream",
          "text": [
            "\r 35%|███▌      | 35/100 [00:08<00:15,  4.33it/s]"
          ],
          "name": "stderr"
        },
        {
          "output_type": "stream",
          "text": [
            "epoch:  tensor(0.8639, grad_fn=<AddBackward0>)\n"
          ],
          "name": "stdout"
        },
        {
          "output_type": "stream",
          "text": [
            "\r 36%|███▌      | 36/100 [00:08<00:14,  4.33it/s]"
          ],
          "name": "stderr"
        },
        {
          "output_type": "stream",
          "text": [
            "epoch:  tensor(0.8851, grad_fn=<AddBackward0>)\n"
          ],
          "name": "stdout"
        },
        {
          "output_type": "stream",
          "text": [
            "\r 37%|███▋      | 37/100 [00:08<00:14,  4.31it/s]"
          ],
          "name": "stderr"
        },
        {
          "output_type": "stream",
          "text": [
            "epoch:  tensor(0.8984, grad_fn=<AddBackward0>)\n"
          ],
          "name": "stdout"
        },
        {
          "output_type": "stream",
          "text": [
            "\r 38%|███▊      | 38/100 [00:08<00:14,  4.31it/s]"
          ],
          "name": "stderr"
        },
        {
          "output_type": "stream",
          "text": [
            "epoch:  tensor(0.9403, grad_fn=<AddBackward0>)\n"
          ],
          "name": "stdout"
        },
        {
          "output_type": "stream",
          "text": [
            "\r 39%|███▉      | 39/100 [00:08<00:14,  4.27it/s]"
          ],
          "name": "stderr"
        },
        {
          "output_type": "stream",
          "text": [
            "epoch:  tensor(0.8124, grad_fn=<AddBackward0>)\n"
          ],
          "name": "stdout"
        },
        {
          "output_type": "stream",
          "text": [
            "\r 40%|████      | 40/100 [00:09<00:13,  4.30it/s]"
          ],
          "name": "stderr"
        },
        {
          "output_type": "stream",
          "text": [
            "epoch:  tensor(0.8917, grad_fn=<AddBackward0>)\n"
          ],
          "name": "stdout"
        },
        {
          "output_type": "stream",
          "text": [
            "\r 41%|████      | 41/100 [00:09<00:13,  4.32it/s]"
          ],
          "name": "stderr"
        },
        {
          "output_type": "stream",
          "text": [
            "epoch:  tensor(0.7965, grad_fn=<AddBackward0>)\n"
          ],
          "name": "stdout"
        },
        {
          "output_type": "stream",
          "text": [
            "\r 42%|████▏     | 42/100 [00:09<00:13,  4.35it/s]"
          ],
          "name": "stderr"
        },
        {
          "output_type": "stream",
          "text": [
            "epoch:  tensor(0.8410, grad_fn=<AddBackward0>)\n"
          ],
          "name": "stdout"
        },
        {
          "output_type": "stream",
          "text": [
            "\r 43%|████▎     | 43/100 [00:09<00:13,  4.36it/s]"
          ],
          "name": "stderr"
        },
        {
          "output_type": "stream",
          "text": [
            "epoch:  tensor(0.6730, grad_fn=<AddBackward0>)\n"
          ],
          "name": "stdout"
        },
        {
          "output_type": "stream",
          "text": [
            "\r 44%|████▍     | 44/100 [00:10<00:13,  4.29it/s]"
          ],
          "name": "stderr"
        },
        {
          "output_type": "stream",
          "text": [
            "epoch:  tensor(0.9808, grad_fn=<AddBackward0>)\n"
          ],
          "name": "stdout"
        },
        {
          "output_type": "stream",
          "text": [
            "\r 45%|████▌     | 45/100 [00:10<00:12,  4.28it/s]"
          ],
          "name": "stderr"
        },
        {
          "output_type": "stream",
          "text": [
            "epoch:  tensor(0.8108, grad_fn=<AddBackward0>)\n"
          ],
          "name": "stdout"
        },
        {
          "output_type": "stream",
          "text": [
            "\r 46%|████▌     | 46/100 [00:10<00:12,  4.29it/s]"
          ],
          "name": "stderr"
        },
        {
          "output_type": "stream",
          "text": [
            "epoch:  tensor(0.9454, grad_fn=<AddBackward0>)\n"
          ],
          "name": "stdout"
        },
        {
          "output_type": "stream",
          "text": [
            "\r 47%|████▋     | 47/100 [00:10<00:12,  4.34it/s]"
          ],
          "name": "stderr"
        },
        {
          "output_type": "stream",
          "text": [
            "epoch:  tensor(0.8705, grad_fn=<AddBackward0>)\n"
          ],
          "name": "stdout"
        },
        {
          "output_type": "stream",
          "text": [
            "\r 48%|████▊     | 48/100 [00:11<00:12,  4.31it/s]"
          ],
          "name": "stderr"
        },
        {
          "output_type": "stream",
          "text": [
            "epoch:  tensor(1.0075, grad_fn=<AddBackward0>)\n"
          ],
          "name": "stdout"
        },
        {
          "output_type": "stream",
          "text": [
            "\r 49%|████▉     | 49/100 [00:11<00:11,  4.32it/s]"
          ],
          "name": "stderr"
        },
        {
          "output_type": "stream",
          "text": [
            "epoch:  tensor(0.8099, grad_fn=<AddBackward0>)\n"
          ],
          "name": "stdout"
        },
        {
          "output_type": "stream",
          "text": [
            "\r 50%|█████     | 50/100 [00:11<00:11,  4.34it/s]"
          ],
          "name": "stderr"
        },
        {
          "output_type": "stream",
          "text": [
            "epoch:  tensor(0.8419, grad_fn=<AddBackward0>)\n"
          ],
          "name": "stdout"
        },
        {
          "output_type": "stream",
          "text": [
            "\r 51%|█████     | 51/100 [00:11<00:11,  4.29it/s]"
          ],
          "name": "stderr"
        },
        {
          "output_type": "stream",
          "text": [
            "epoch:  tensor(0.9967, grad_fn=<AddBackward0>)\n"
          ],
          "name": "stdout"
        },
        {
          "output_type": "stream",
          "text": [
            "\r 52%|█████▏    | 52/100 [00:11<00:11,  4.13it/s]"
          ],
          "name": "stderr"
        },
        {
          "output_type": "stream",
          "text": [
            "epoch:  tensor(0.8364, grad_fn=<AddBackward0>)\n"
          ],
          "name": "stdout"
        },
        {
          "output_type": "stream",
          "text": [
            "\r 53%|█████▎    | 53/100 [00:12<00:11,  4.13it/s]"
          ],
          "name": "stderr"
        },
        {
          "output_type": "stream",
          "text": [
            "epoch:  tensor(0.7253, grad_fn=<AddBackward0>)\n"
          ],
          "name": "stdout"
        },
        {
          "output_type": "stream",
          "text": [
            "\r 54%|█████▍    | 54/100 [00:12<00:11,  4.18it/s]"
          ],
          "name": "stderr"
        },
        {
          "output_type": "stream",
          "text": [
            "epoch:  tensor(0.7119, grad_fn=<AddBackward0>)\n"
          ],
          "name": "stdout"
        },
        {
          "output_type": "stream",
          "text": [
            "\r 55%|█████▌    | 55/100 [00:12<00:10,  4.23it/s]"
          ],
          "name": "stderr"
        },
        {
          "output_type": "stream",
          "text": [
            "epoch:  tensor(1.0463, grad_fn=<AddBackward0>)\n"
          ],
          "name": "stdout"
        },
        {
          "output_type": "stream",
          "text": [
            "\r 56%|█████▌    | 56/100 [00:12<00:10,  4.27it/s]"
          ],
          "name": "stderr"
        },
        {
          "output_type": "stream",
          "text": [
            "epoch:  tensor(0.8272, grad_fn=<AddBackward0>)\n"
          ],
          "name": "stdout"
        },
        {
          "output_type": "stream",
          "text": [
            "\r 57%|█████▋    | 57/100 [00:13<00:10,  4.29it/s]"
          ],
          "name": "stderr"
        },
        {
          "output_type": "stream",
          "text": [
            "epoch:  tensor(0.7812, grad_fn=<AddBackward0>)\n"
          ],
          "name": "stdout"
        },
        {
          "output_type": "stream",
          "text": [
            "\r 58%|█████▊    | 58/100 [00:13<00:09,  4.28it/s]"
          ],
          "name": "stderr"
        },
        {
          "output_type": "stream",
          "text": [
            "epoch:  tensor(0.9192, grad_fn=<AddBackward0>)\n"
          ],
          "name": "stdout"
        },
        {
          "output_type": "stream",
          "text": [
            "\r 59%|█████▉    | 59/100 [00:13<00:09,  4.29it/s]"
          ],
          "name": "stderr"
        },
        {
          "output_type": "stream",
          "text": [
            "epoch:  tensor(0.9833, grad_fn=<AddBackward0>)\n"
          ],
          "name": "stdout"
        },
        {
          "output_type": "stream",
          "text": [
            "\r 60%|██████    | 60/100 [00:13<00:09,  4.24it/s]"
          ],
          "name": "stderr"
        },
        {
          "output_type": "stream",
          "text": [
            "epoch:  tensor(0.7599, grad_fn=<AddBackward0>)\n"
          ],
          "name": "stdout"
        },
        {
          "output_type": "stream",
          "text": [
            "\r 61%|██████    | 61/100 [00:14<00:09,  4.26it/s]"
          ],
          "name": "stderr"
        },
        {
          "output_type": "stream",
          "text": [
            "epoch:  tensor(0.7227, grad_fn=<AddBackward0>)\n"
          ],
          "name": "stdout"
        },
        {
          "output_type": "stream",
          "text": [
            "\r 62%|██████▏   | 62/100 [00:14<00:08,  4.26it/s]"
          ],
          "name": "stderr"
        },
        {
          "output_type": "stream",
          "text": [
            "epoch:  tensor(0.9963, grad_fn=<AddBackward0>)\n"
          ],
          "name": "stdout"
        },
        {
          "output_type": "stream",
          "text": [
            "\r 63%|██████▎   | 63/100 [00:14<00:08,  4.31it/s]"
          ],
          "name": "stderr"
        },
        {
          "output_type": "stream",
          "text": [
            "epoch:  tensor(0.9210, grad_fn=<AddBackward0>)\n"
          ],
          "name": "stdout"
        },
        {
          "output_type": "stream",
          "text": [
            "\r 64%|██████▍   | 64/100 [00:14<00:08,  4.34it/s]"
          ],
          "name": "stderr"
        },
        {
          "output_type": "stream",
          "text": [
            "epoch:  tensor(0.8863, grad_fn=<AddBackward0>)\n"
          ],
          "name": "stdout"
        },
        {
          "output_type": "stream",
          "text": [
            "\r 65%|██████▌   | 65/100 [00:15<00:08,  4.31it/s]"
          ],
          "name": "stderr"
        },
        {
          "output_type": "stream",
          "text": [
            "epoch:  tensor(0.7760, grad_fn=<AddBackward0>)\n"
          ],
          "name": "stdout"
        },
        {
          "output_type": "stream",
          "text": [
            "\r 66%|██████▌   | 66/100 [00:15<00:07,  4.31it/s]"
          ],
          "name": "stderr"
        },
        {
          "output_type": "stream",
          "text": [
            "epoch:  tensor(0.7959, grad_fn=<AddBackward0>)\n"
          ],
          "name": "stdout"
        },
        {
          "output_type": "stream",
          "text": [
            "\r 67%|██████▋   | 67/100 [00:15<00:07,  4.32it/s]"
          ],
          "name": "stderr"
        },
        {
          "output_type": "stream",
          "text": [
            "epoch:  tensor(0.8879, grad_fn=<AddBackward0>)\n"
          ],
          "name": "stdout"
        },
        {
          "output_type": "stream",
          "text": [
            "\r 68%|██████▊   | 68/100 [00:15<00:07,  4.30it/s]"
          ],
          "name": "stderr"
        },
        {
          "output_type": "stream",
          "text": [
            "epoch:  tensor(0.7545, grad_fn=<AddBackward0>)\n"
          ],
          "name": "stdout"
        },
        {
          "output_type": "stream",
          "text": [
            "\r 69%|██████▉   | 69/100 [00:15<00:07,  4.31it/s]"
          ],
          "name": "stderr"
        },
        {
          "output_type": "stream",
          "text": [
            "epoch:  tensor(0.7140, grad_fn=<AddBackward0>)\n"
          ],
          "name": "stdout"
        },
        {
          "output_type": "stream",
          "text": [
            "\r 70%|███████   | 70/100 [00:16<00:07,  4.20it/s]"
          ],
          "name": "stderr"
        },
        {
          "output_type": "stream",
          "text": [
            "epoch:  tensor(0.9167, grad_fn=<AddBackward0>)\n"
          ],
          "name": "stdout"
        },
        {
          "output_type": "stream",
          "text": [
            "\r 71%|███████   | 71/100 [00:16<00:06,  4.23it/s]"
          ],
          "name": "stderr"
        },
        {
          "output_type": "stream",
          "text": [
            "epoch:  tensor(0.6610, grad_fn=<AddBackward0>)\n"
          ],
          "name": "stdout"
        },
        {
          "output_type": "stream",
          "text": [
            "\r 72%|███████▏  | 72/100 [00:16<00:06,  4.28it/s]"
          ],
          "name": "stderr"
        },
        {
          "output_type": "stream",
          "text": [
            "epoch:  tensor(0.8098, grad_fn=<AddBackward0>)\n"
          ],
          "name": "stdout"
        },
        {
          "output_type": "stream",
          "text": [
            "\r 73%|███████▎  | 73/100 [00:16<00:06,  4.29it/s]"
          ],
          "name": "stderr"
        },
        {
          "output_type": "stream",
          "text": [
            "epoch:  tensor(0.7358, grad_fn=<AddBackward0>)\n"
          ],
          "name": "stdout"
        },
        {
          "output_type": "stream",
          "text": [
            "\r 74%|███████▍  | 74/100 [00:17<00:06,  4.25it/s]"
          ],
          "name": "stderr"
        },
        {
          "output_type": "stream",
          "text": [
            "epoch:  tensor(0.8537, grad_fn=<AddBackward0>)\n"
          ],
          "name": "stdout"
        },
        {
          "output_type": "stream",
          "text": [
            "\r 75%|███████▌  | 75/100 [00:17<00:05,  4.27it/s]"
          ],
          "name": "stderr"
        },
        {
          "output_type": "stream",
          "text": [
            "epoch:  tensor(0.8125, grad_fn=<AddBackward0>)\n"
          ],
          "name": "stdout"
        },
        {
          "output_type": "stream",
          "text": [
            "\r 76%|███████▌  | 76/100 [00:17<00:05,  4.30it/s]"
          ],
          "name": "stderr"
        },
        {
          "output_type": "stream",
          "text": [
            "epoch:  tensor(0.8673, grad_fn=<AddBackward0>)\n"
          ],
          "name": "stdout"
        },
        {
          "output_type": "stream",
          "text": [
            "\r 77%|███████▋  | 77/100 [00:17<00:05,  4.30it/s]"
          ],
          "name": "stderr"
        },
        {
          "output_type": "stream",
          "text": [
            "epoch:  tensor(0.8616, grad_fn=<AddBackward0>)\n"
          ],
          "name": "stdout"
        },
        {
          "output_type": "stream",
          "text": [
            "\r 78%|███████▊  | 78/100 [00:18<00:05,  4.28it/s]"
          ],
          "name": "stderr"
        },
        {
          "output_type": "stream",
          "text": [
            "epoch:  tensor(0.8963, grad_fn=<AddBackward0>)\n"
          ],
          "name": "stdout"
        },
        {
          "output_type": "stream",
          "text": [
            "\r 79%|███████▉  | 79/100 [00:18<00:05,  4.19it/s]"
          ],
          "name": "stderr"
        },
        {
          "output_type": "stream",
          "text": [
            "epoch:  tensor(0.8226, grad_fn=<AddBackward0>)\n"
          ],
          "name": "stdout"
        },
        {
          "output_type": "stream",
          "text": [
            "\r 80%|████████  | 80/100 [00:18<00:04,  4.21it/s]"
          ],
          "name": "stderr"
        },
        {
          "output_type": "stream",
          "text": [
            "epoch:  tensor(1.0459, grad_fn=<AddBackward0>)\n"
          ],
          "name": "stdout"
        },
        {
          "output_type": "stream",
          "text": [
            "\r 81%|████████  | 81/100 [00:18<00:04,  4.22it/s]"
          ],
          "name": "stderr"
        },
        {
          "output_type": "stream",
          "text": [
            "epoch:  tensor(0.7694, grad_fn=<AddBackward0>)\n"
          ],
          "name": "stdout"
        },
        {
          "output_type": "stream",
          "text": [
            "\r 82%|████████▏ | 82/100 [00:19<00:04,  4.25it/s]"
          ],
          "name": "stderr"
        },
        {
          "output_type": "stream",
          "text": [
            "epoch:  tensor(0.8497, grad_fn=<AddBackward0>)\n"
          ],
          "name": "stdout"
        },
        {
          "output_type": "stream",
          "text": [
            "\r 83%|████████▎ | 83/100 [00:19<00:04,  4.20it/s]"
          ],
          "name": "stderr"
        },
        {
          "output_type": "stream",
          "text": [
            "epoch:  tensor(0.7446, grad_fn=<AddBackward0>)\n"
          ],
          "name": "stdout"
        },
        {
          "output_type": "stream",
          "text": [
            "\r 84%|████████▍ | 84/100 [00:19<00:03,  4.25it/s]"
          ],
          "name": "stderr"
        },
        {
          "output_type": "stream",
          "text": [
            "epoch:  tensor(0.8681, grad_fn=<AddBackward0>)\n"
          ],
          "name": "stdout"
        },
        {
          "output_type": "stream",
          "text": [
            "\r 85%|████████▌ | 85/100 [00:19<00:03,  4.24it/s]"
          ],
          "name": "stderr"
        },
        {
          "output_type": "stream",
          "text": [
            "epoch:  tensor(0.7995, grad_fn=<AddBackward0>)\n"
          ],
          "name": "stdout"
        },
        {
          "output_type": "stream",
          "text": [
            "\r 86%|████████▌ | 86/100 [00:19<00:03,  4.28it/s]"
          ],
          "name": "stderr"
        },
        {
          "output_type": "stream",
          "text": [
            "epoch:  tensor(0.8008, grad_fn=<AddBackward0>)\n"
          ],
          "name": "stdout"
        },
        {
          "output_type": "stream",
          "text": [
            "\r 87%|████████▋ | 87/100 [00:20<00:03,  4.21it/s]"
          ],
          "name": "stderr"
        },
        {
          "output_type": "stream",
          "text": [
            "epoch:  tensor(0.9702, grad_fn=<AddBackward0>)\n"
          ],
          "name": "stdout"
        },
        {
          "output_type": "stream",
          "text": [
            "\r 88%|████████▊ | 88/100 [00:20<00:02,  4.23it/s]"
          ],
          "name": "stderr"
        },
        {
          "output_type": "stream",
          "text": [
            "epoch:  tensor(0.8372, grad_fn=<AddBackward0>)\n"
          ],
          "name": "stdout"
        },
        {
          "output_type": "stream",
          "text": [
            "\r 89%|████████▉ | 89/100 [00:20<00:02,  4.24it/s]"
          ],
          "name": "stderr"
        },
        {
          "output_type": "stream",
          "text": [
            "epoch:  tensor(0.7185, grad_fn=<AddBackward0>)\n"
          ],
          "name": "stdout"
        },
        {
          "output_type": "stream",
          "text": [
            "\r 90%|█████████ | 90/100 [00:20<00:02,  4.23it/s]"
          ],
          "name": "stderr"
        },
        {
          "output_type": "stream",
          "text": [
            "epoch:  tensor(0.8290, grad_fn=<AddBackward0>)\n"
          ],
          "name": "stdout"
        },
        {
          "output_type": "stream",
          "text": [
            "\r 91%|█████████ | 91/100 [00:21<00:02,  4.24it/s]"
          ],
          "name": "stderr"
        },
        {
          "output_type": "stream",
          "text": [
            "epoch:  tensor(0.7407, grad_fn=<AddBackward0>)\n"
          ],
          "name": "stdout"
        },
        {
          "output_type": "stream",
          "text": [
            "\r 92%|█████████▏| 92/100 [00:21<00:01,  4.24it/s]"
          ],
          "name": "stderr"
        },
        {
          "output_type": "stream",
          "text": [
            "epoch:  tensor(1.1111, grad_fn=<AddBackward0>)\n"
          ],
          "name": "stdout"
        },
        {
          "output_type": "stream",
          "text": [
            "\r 93%|█████████▎| 93/100 [00:21<00:01,  4.21it/s]"
          ],
          "name": "stderr"
        },
        {
          "output_type": "stream",
          "text": [
            "epoch:  tensor(0.7615, grad_fn=<AddBackward0>)\n"
          ],
          "name": "stdout"
        },
        {
          "output_type": "stream",
          "text": [
            "\r 94%|█████████▍| 94/100 [00:21<00:01,  4.24it/s]"
          ],
          "name": "stderr"
        },
        {
          "output_type": "stream",
          "text": [
            "epoch:  tensor(0.9687, grad_fn=<AddBackward0>)\n"
          ],
          "name": "stdout"
        },
        {
          "output_type": "stream",
          "text": [
            "\r 95%|█████████▌| 95/100 [00:22<00:01,  4.29it/s]"
          ],
          "name": "stderr"
        },
        {
          "output_type": "stream",
          "text": [
            "epoch:  tensor(0.7584, grad_fn=<AddBackward0>)\n"
          ],
          "name": "stdout"
        },
        {
          "output_type": "stream",
          "text": [
            "\r 96%|█████████▌| 96/100 [00:22<00:00,  4.25it/s]"
          ],
          "name": "stderr"
        },
        {
          "output_type": "stream",
          "text": [
            "epoch:  tensor(0.7910, grad_fn=<AddBackward0>)\n"
          ],
          "name": "stdout"
        },
        {
          "output_type": "stream",
          "text": [
            "\r 97%|█████████▋| 97/100 [00:22<00:00,  4.25it/s]"
          ],
          "name": "stderr"
        },
        {
          "output_type": "stream",
          "text": [
            "epoch:  tensor(1.1910, grad_fn=<AddBackward0>)\n"
          ],
          "name": "stdout"
        },
        {
          "output_type": "stream",
          "text": [
            "\r 98%|█████████▊| 98/100 [00:22<00:00,  4.28it/s]"
          ],
          "name": "stderr"
        },
        {
          "output_type": "stream",
          "text": [
            "epoch:  tensor(0.7371, grad_fn=<AddBackward0>)\n"
          ],
          "name": "stdout"
        },
        {
          "output_type": "stream",
          "text": [
            "\r 99%|█████████▉| 99/100 [00:23<00:00,  4.29it/s]"
          ],
          "name": "stderr"
        },
        {
          "output_type": "stream",
          "text": [
            "epoch:  tensor(0.7631, grad_fn=<AddBackward0>)\n"
          ],
          "name": "stdout"
        },
        {
          "output_type": "stream",
          "text": [
            "100%|██████████| 100/100 [00:23<00:00,  4.30it/s]"
          ],
          "name": "stderr"
        },
        {
          "output_type": "stream",
          "text": [
            "epoch:  tensor(0.9016, grad_fn=<AddBackward0>)\n"
          ],
          "name": "stdout"
        },
        {
          "output_type": "stream",
          "text": [
            "\n"
          ],
          "name": "stderr"
        }
      ]
    },
    {
      "cell_type": "code",
      "metadata": {
        "_uuid": "903cf3ac-e4d9-4bba-8836-e8676948aa2a",
        "_cell_guid": "14e67f96-42c4-4bd3-8855-1b0cd7e01fae",
        "trusted": true,
        "id": "f6HzkNVTu8z9",
        "colab_type": "code",
        "colab": {}
      },
      "source": [
        "## Evaluation\n",
        "eval_location = []\n",
        "\n",
        "# save all predictions\n",
        "predict_case = []\n",
        "predict_death = []\n",
        "\n",
        "model.eval()\n",
        "for idx, row in test.iterrows():\n",
        "    if(row[\"location\"] not in eval_location):\n",
        "        #print(row[\"location\"])\n",
        "        eval_location.append(row[\"location\"])\n",
        "        eval_input = test_input_dict[row[\"location\"]]\n",
        "        \n",
        "    c, d = model(torch.tensor(eval_input).unsqueeze(0))\n",
        "    predict_case.append(c)\n",
        "    predict_death.append(d)\n",
        "    \n",
        "    # update the last new_case/new_death value\n",
        "    eval_input[9] = c\n",
        "    eval_input[19] = d"
      ],
      "execution_count": 88,
      "outputs": []
    },
    {
      "cell_type": "code",
      "metadata": {
        "_uuid": "502fe1a8-c190-4df8-bbad-deaec7fd00fd",
        "_cell_guid": "fb626402-49d4-4259-8c4c-abd44a257f19",
        "trusted": true,
        "id": "qZ5o2Xy-u80B",
        "colab_type": "code",
        "colab": {}
      },
      "source": [
        "# Make submission file\n",
        "predict_all = torch.stack([torch.tensor(predict_case), torch.tensor(predict_death)], dim = 1)\n",
        "ppredict = predict_all.numpy()\n",
        "ppredict = pd.DataFrame(ppredict, columns = [\"new_cases\", \"new_deaths\"])\n",
        "ppredict[\"id\"] = ppredict.index\n",
        "\n",
        "ppredict = ppredict[[\"id\", \"new_cases\", \"new_deaths\"]]"
      ],
      "execution_count": 89,
      "outputs": []
    },
    {
      "cell_type": "code",
      "metadata": {
        "_uuid": "fd293838-5dc6-46bf-91f6-b80aedbb82ef",
        "_cell_guid": "fcd972f5-d0f8-43f5-b433-8580ef4d6b65",
        "trusted": true,
        "id": "MFfxluQMu80F",
        "colab_type": "code",
        "colab": {}
      },
      "source": [
        "# Save submission file\n",
        "ppredict.to_csv(\"Submit.csv\", index = False)"
      ],
      "execution_count": 90,
      "outputs": []
    },
    {
      "cell_type": "code",
      "metadata": {
        "trusted": true,
        "id": "bbJysBWXu80M",
        "colab_type": "code",
        "colab": {}
      },
      "source": [
        ""
      ],
      "execution_count": 90,
      "outputs": []
    }
  ]
}